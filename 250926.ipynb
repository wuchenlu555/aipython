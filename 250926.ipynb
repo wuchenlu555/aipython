{
  "nbformat": 4,
  "nbformat_minor": 0,
  "metadata": {
    "colab": {
      "provenance": []
    },
    "kernelspec": {
      "name": "python3",
      "display_name": "Python 3"
    },
    "language_info": {
      "name": "python"
    }
  },
  "cells": [
    {
      "cell_type": "code",
      "execution_count": 6,
      "metadata": {
        "colab": {
          "base_uri": "https://localhost:8080/"
        },
        "id": "R5kUNFrlauUa",
        "outputId": "f9b131e8-8932-4f78-bc9f-ddf757853305"
      },
      "outputs": [
        {
          "output_type": "stream",
          "name": "stdout",
          "text": [
            "숫자를 입력하세요: 5\n",
            "홀수입니다\n"
          ]
        }
      ],
      "source": [
        "num = int(input(\"숫자를 입력하세요: \"))\n",
        "if num % 2 == 0:\n",
        "  print(\"짝수입니다\")\n",
        "else:\n",
        "  print(\"홀수입니다\")"
      ]
    },
    {
      "cell_type": "code",
      "metadata": {
        "colab": {
          "base_uri": "https://localhost:8080/"
        },
        "id": "8aaea97a",
        "outputId": "0b5846d3-1727-48b1-87b7-1c2142c2e3a4"
      },
      "source": [
        "print(10 % 3)\n",
        "print(7 % 2)\n",
        "print(15 % 5)"
      ],
      "execution_count": 5,
      "outputs": [
        {
          "output_type": "stream",
          "name": "stdout",
          "text": [
            "1\n",
            "1\n",
            "0\n"
          ]
        }
      ]
    },
    {
      "cell_type": "code",
      "metadata": {
        "colab": {
          "base_uri": "https://localhost:8080/"
        },
        "id": "37f2a1ac",
        "outputId": "a368bb67-c24b-41f5-fd15-e5c8e575650b"
      },
      "source": [
        "x = 10\n",
        "y = 5\n",
        "z = 15\n",
        "\n",
        "print(x > y and x < z) # True\n",
        "print(x < y or x > z)  # False\n",
        "print(not (x == 10)) # False"
      ],
      "execution_count": 14,
      "outputs": [
        {
          "output_type": "stream",
          "name": "stdout",
          "text": [
            "True\n",
            "False\n",
            "False\n"
          ]
        }
      ]
    },
    {
      "cell_type": "code",
      "source": [
        "age = int(input(\"나이를 입력하세요: \"))\n",
        "fee = 5000 # 기본 입장료\n",
        "# 만약 8세 미만이거나 65세 이상이라면\n",
        "if age < 8 or age >= 65:\n",
        "  fee = 0 # 무료\n",
        "# 위의 조건이 아니고, 만약 8세 이상 14세 미만이라면\n",
        "elif age >= 8 and age < 14:\n",
        "  fee = fee * 0.5 # 50% 할인\n",
        "# 위의 조건들이 아니고, 만약 14세 이상 19세 미만이라면\n",
        "elif age >= 14 and age < 19:\n",
        "  fee = fee * 0.75 # 25% 할인\n",
        "# 위의 모든 조건에 해당하지 않는다면 (19세 이상 65세 미만)\n",
        "else:\n",
        "  fee = fee # 정상 요금\n",
        "print(\"입장료는\", int(fee), \"원입니다.\")"
      ],
      "metadata": {
        "colab": {
          "base_uri": "https://localhost:8080/"
        },
        "id": "Qc3GT5-EgZn9",
        "outputId": "a840618d-a8ff-40ce-e028-68755f26f96b"
      },
      "execution_count": 8,
      "outputs": [
        {
          "output_type": "stream",
          "name": "stdout",
          "text": [
            "나이를 입력하세요: 25\n",
            "입장료는 5000 원입니다.\n"
          ]
        }
      ]
    },
    {
      "cell_type": "code",
      "source": [
        "scores= int(input(\"성적을 입력하세요: \"))\n",
        "\n",
        "if scores <= 100 and scores >= 90:\n",
        "  print(\"A\")\n",
        "elif scores <90 and scores>=70 :\n",
        "  print(\"B\")\n",
        "elif scores <70 and scores >= 60:\n",
        "  print( \" C\")\n",
        "elif scores <60 and scores >= 0:\n",
        "  print(\"D\")\n",
        "else:\n",
        "  print(\"잘못된 점수입니다\")\n",
        ""
      ],
      "metadata": {
        "colab": {
          "base_uri": "https://localhost:8080/"
        },
        "id": "pSTD_iw0lH_4",
        "outputId": "c175496e-23e3-4534-c000-0f19a8f23753"
      },
      "execution_count": 20,
      "outputs": [
        {
          "output_type": "stream",
          "name": "stdout",
          "text": [
            "성적을 입력하세요: 66\n",
            " C\n"
          ]
        }
      ]
    },
    {
      "cell_type": "code",
      "source": [
        "scores= int(input(\"성적을 입력하세요: \"))\n",
        "\n",
        "if scores>=0 and scores <= 100:\n",
        "    if scores >= 90:\n",
        "        print(\"A\")\n",
        "    elif  scores>=70 :\n",
        "         print(\"B\")\n",
        "    elif  scores >= 60:\n",
        "        print( \" C\")\n",
        "    else:\n",
        "        print(\"D\")\n",
        "else:\n",
        "  print(\"잘못된 점수입니다\")"
      ],
      "metadata": {
        "colab": {
          "base_uri": "https://localhost:8080/"
        },
        "id": "aA7U6VnAoMk9",
        "outputId": "8bbc6ecc-18bd-4386-898e-21fe31e5a554"
      },
      "execution_count": 21,
      "outputs": [
        {
          "output_type": "stream",
          "name": "stdout",
          "text": [
            "성적을 입력하세요: 55\n",
            "D\n"
          ]
        }
      ]
    },
    {
      "cell_type": "code",
      "source": [
        "sum = 0 # 합계를 저장할 변수를 0으로 초기화\n",
        "# 1부터 5까지의 숫자를 a에 차례로 대입하며 반복\n",
        "for a in range(1, 6):\n",
        "  sum = sum + a # 기존 sum 값에 현재 a 값을 더해서 다시 저장\n",
        "print(\"1부터 5까지의 합은\", sum, \"입니다.\")\n"
      ],
      "metadata": {
        "colab": {
          "base_uri": "https://localhost:8080/"
        },
        "id": "uLKJ475qsR16",
        "outputId": "a88b5f7b-71c2-4fd4-ca47-54d9da020612"
      },
      "execution_count": 22,
      "outputs": [
        {
          "output_type": "stream",
          "name": "stdout",
          "text": [
            "1부터 5까지의 합은 15 입니다.\n"
          ]
        }
      ]
    },
    {
      "cell_type": "code",
      "source": [
        "sum=0\n",
        "for a in range(1,101):\n",
        "  sum=sum+a\n",
        "print(\"1부터 100까지의 합은\", sum, \"입니다.\")"
      ],
      "metadata": {
        "colab": {
          "base_uri": "https://localhost:8080/"
        },
        "id": "JvyysSF_x5i8",
        "outputId": "43664e79-0cb6-4d12-9134-fc13576e8464"
      },
      "execution_count": 24,
      "outputs": [
        {
          "output_type": "stream",
          "name": "stdout",
          "text": [
            "1부터 100까지의 합은 5060 입니다.\n"
          ]
        }
      ]
    },
    {
      "cell_type": "code",
      "source": [
        "sum=0\n",
        "for a in range(1,101,2):\n",
        "  sum=sum+a\n",
        "print(\"1부터 100까지의 합은\", sum, \"입니다.\")"
      ],
      "metadata": {
        "colab": {
          "base_uri": "https://localhost:8080/"
        },
        "id": "FVlT0p2VzjPK",
        "outputId": "c373592d-3310-4ddf-d0c3-070c682261f0"
      },
      "execution_count": 25,
      "outputs": [
        {
          "output_type": "stream",
          "name": "stdout",
          "text": [
            "1부터 100까지의 합은 2500 입니다.\n"
          ]
        }
      ]
    },
    {
      "cell_type": "code",
      "source": [
        "sum=0\n",
        "for a in range(2,101,2):\n",
        "  sum=sum+a\n",
        "print(\"1부터 100까지의 합은\", sum, \"입니다.\")"
      ],
      "metadata": {
        "colab": {
          "base_uri": "https://localhost:8080/"
        },
        "id": "yUKZLpuszvTi",
        "outputId": "75c77b7a-3213-4dd1-fc66-79dd14179f08"
      },
      "execution_count": 27,
      "outputs": [
        {
          "output_type": "stream",
          "name": "stdout",
          "text": [
            "1부터 100까지의 합은 2550 입니다.\n"
          ]
        }
      ]
    },
    {
      "cell_type": "code",
      "source": [
        "sum=0   #홀수합산\n",
        "sum1=0   #짝수합산\n",
        "for a in range(1,101):\n",
        "  if a %2==0:\n",
        "    sum1=sum1+a\n",
        "  else:\n",
        "    sum=sum+a\n",
        "print(\"1부터 100까지의 짝수 합은\", sum1, \"입니다.\")\n",
        "print(\"1부터 100까지의 홀수 합은\", sum, \"입니다.\")"
      ],
      "metadata": {
        "colab": {
          "base_uri": "https://localhost:8080/"
        },
        "id": "gkk5usMW0GEq",
        "outputId": "bfd9ec01-a707-4549-ca92-cdf2de8e7954"
      },
      "execution_count": 28,
      "outputs": [
        {
          "output_type": "stream",
          "name": "stdout",
          "text": [
            "1부터 100까지의 짝수 합은 2550 입니다.\n",
            "1부터 100까지의 홀수 합은 2500 입니다.\n"
          ]
        }
      ]
    },
    {
      "cell_type": "code",
      "source": [
        "odd_sum=0   #홀수합산\n",
        "even_sum=0   #짝수합산\n",
        "for a in range(1,101):\n",
        "  if a %2==0:\n",
        "    even_sum=even_sum+a\n",
        "  else:\n",
        "    odd_sum=odd_sum+a\n",
        "print(\"1부터 100까지의 짝수 합은\", even_sum, \"입니다.\")\n",
        "print(\"1부터 100까지의 홀수 합은\", odd_sum, \"입니다.\")"
      ],
      "metadata": {
        "colab": {
          "base_uri": "https://localhost:8080/"
        },
        "id": "pgp4herK2ESY",
        "outputId": "6b250f00-72df-4528-b97e-72cdc0c839b5"
      },
      "execution_count": 29,
      "outputs": [
        {
          "output_type": "stream",
          "name": "stdout",
          "text": [
            "1부터 100까지의 짝수 합은 2550 입니다.\n",
            "1부터 100까지의 홀수 합은 2500 입니다.\n"
          ]
        }
      ]
    },
    {
      "cell_type": "code",
      "source": [
        "sum=0\n",
        "for a in range(1,101,2):\n",
        "    sum=sum+a\n",
        "print(\"1부터 100까지의 홀수 합은\", sum, \"입니다.\")\n",
        "\n",
        "sum=0\n",
        "for a in range(0,101,2):\n",
        "   sum=sum+a\n",
        "print(\"1부터 100까지의 짝수 합은\", sum1, \"입니다.\")"
      ],
      "metadata": {
        "colab": {
          "base_uri": "https://localhost:8080/"
        },
        "id": "rdnNXQoD2aAq",
        "outputId": "afe2b555-1c4f-4e41-c81e-0af69c8f9d7c"
      },
      "execution_count": 30,
      "outputs": [
        {
          "output_type": "stream",
          "name": "stdout",
          "text": [
            "1부터 100까지의 홀수 합은 2500 입니다.\n",
            "1부터 100까지의 짝수 합은 2550 입니다.\n"
          ]
        }
      ]
    },
    {
      "cell_type": "code",
      "source": [
        "sum=0\n",
        "money=100\n",
        "day=1\n",
        "\n",
        "while sum<50000:\n",
        "  sum=sum+money\n",
        "  money=money+100\n",
        "  day=day+1\n",
        "print(\"총\",day,\"일이 걸립니다\")"
      ],
      "metadata": {
        "colab": {
          "base_uri": "https://localhost:8080/"
        },
        "id": "l_fWwM3f3WxB",
        "outputId": "95990460-2cae-4e54-ab54-7a1b558d229f"
      },
      "execution_count": 31,
      "outputs": [
        {
          "output_type": "stream",
          "name": "stdout",
          "text": [
            "총 33 일이 걸립니다\n"
          ]
        }
      ]
    },
    {
      "cell_type": "code",
      "source": [
        "num = int(input(\"숫자를 입력하세요: \"))\n"
      ],
      "metadata": {
        "id": "lEF9I2D74_kX"
      },
      "execution_count": null,
      "outputs": []
    },
    {
      "cell_type": "code",
      "source": [
        "total = 0\n",
        "\n",
        "while True:\n",
        "    num = int(input(\"숫자를 입력하세요 : \"))\n",
        "    if num == 0:\n",
        "        break\n",
        "    total += num\n",
        "\n",
        "print(\"입력한 숫자의 총합은:\", total)\n"
      ],
      "metadata": {
        "colab": {
          "base_uri": "https://localhost:8080/"
        },
        "id": "HhJg9lyo56Ru",
        "outputId": "653416ab-73f0-4e67-9099-7a0e6c82ef57"
      },
      "execution_count": 34,
      "outputs": [
        {
          "output_type": "stream",
          "name": "stdout",
          "text": [
            "숫자를 입력하세요 : 10\n",
            "숫자를 입력하세요 : 30\n",
            "숫자를 입력하세요 : 1575\n",
            "숫자를 입력하세요 : 4252\n",
            "숫자를 입력하세요 : 12465\n",
            "숫자를 입력하세요 : 542\n",
            "숫자를 입력하세요 : 2412\n",
            "숫자를 입력하세요 : 12452\n",
            "숫자를 입력하세요 : 0\n",
            "입력한 숫자의 총합은: 33738\n"
          ]
        }
      ]
    },
    {
      "cell_type": "code",
      "source": [
        "num = int(input(\"숫자를 입력하세요: \"))\n",
        "total = 0\n",
        "\n",
        "while num != 0:\n",
        "    total += num\n",
        "    num = int(input(\"숫자를 입력하세요 : \"))\n",
        "\n",
        "print(\"입력한 숫자의 총합은:\", total)"
      ],
      "metadata": {
        "colab": {
          "base_uri": "https://localhost:8080/"
        },
        "id": "hQc7Jaw66tkF",
        "outputId": "d3490e95-2c24-49e6-c719-f6689ec39dae"
      },
      "execution_count": 36,
      "outputs": [
        {
          "output_type": "stream",
          "name": "stdout",
          "text": [
            "숫자를 입력하세요: 3423\n",
            "숫자를 입력하세요 : 43543\n",
            "숫자를 입력하세요 : 654\n",
            "숫자를 입력하세요 : 35543\n",
            "숫자를 입력하세요 : 353\n",
            "숫자를 입력하세요 : 76\n",
            "숫자를 입력하세요 : 768\n",
            "숫자를 입력하세요 : 0\n",
            "입력한 숫자의 총합은: 84360\n"
          ]
        }
      ]
    },
    {
      "cell_type": "code",
      "source": [
        "332\n"
      ],
      "metadata": {
        "id": "jDHRCRIi7dh9"
      },
      "execution_count": null,
      "outputs": []
    }
  ]
}