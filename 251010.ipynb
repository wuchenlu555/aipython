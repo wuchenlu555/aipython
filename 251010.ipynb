{
  "nbformat": 4,
  "nbformat_minor": 0,
  "metadata": {
    "colab": {
      "provenance": [],
      "authorship_tag": "ABX9TyPHUWY7lVegxGRrvm07SEto",
      "include_colab_link": true
    },
    "kernelspec": {
      "name": "python3",
      "display_name": "Python 3"
    },
    "language_info": {
      "name": "python"
    }
  },
  "cells": [
    {
      "cell_type": "markdown",
      "metadata": {
        "id": "view-in-github",
        "colab_type": "text"
      },
      "source": [
        "<a href=\"https://colab.research.google.com/github/wuchenlu555/aipython/blob/main/251010.ipynb\" target=\"_parent\"><img src=\"https://colab.research.google.com/assets/colab-badge.svg\" alt=\"Open In Colab\"/></a>"
      ]
    },
    {
      "cell_type": "code",
      "execution_count": 1,
      "metadata": {
        "id": "z8yMpEt6cGYX"
      },
      "outputs": [],
      "source": [
        "eng=['A','B','C','D','E']\n",
        "prices = [1000, 2500, 3000, 1500, 5000]\n",
        "nums=[1,2,3,4,5]"
      ]
    },
    {
      "cell_type": "code",
      "source": [
        "chars=['a','b','c','d','e']"
      ],
      "metadata": {
        "id": "16bfpuCelcas"
      },
      "execution_count": 2,
      "outputs": []
    },
    {
      "cell_type": "code",
      "source": [
        "prices"
      ],
      "metadata": {
        "colab": {
          "base_uri": "https://localhost:8080/"
        },
        "id": "slRIUNbjmrpz",
        "outputId": "c3d8edd3-cb75-41d7-8e77-c50314592cc9"
      },
      "execution_count": 7,
      "outputs": [
        {
          "output_type": "execute_result",
          "data": {
            "text/plain": [
              "[1000, 2500, 3000, 1500, 5000]"
            ]
          },
          "metadata": {},
          "execution_count": 7
        }
      ]
    },
    {
      "cell_type": "code",
      "source": [
        "chars"
      ],
      "metadata": {
        "colab": {
          "base_uri": "https://localhost:8080/"
        },
        "id": "hoXqBhysmLpc",
        "outputId": "a4294701-31a2-4a22-e3cf-00678a9c5b34"
      },
      "execution_count": 3,
      "outputs": [
        {
          "output_type": "execute_result",
          "data": {
            "text/plain": [
              "['a', 'b', 'c', 'd', 'e']"
            ]
          },
          "metadata": {},
          "execution_count": 3
        }
      ]
    },
    {
      "cell_type": "code",
      "source": [
        "nums"
      ],
      "metadata": {
        "colab": {
          "base_uri": "https://localhost:8080/"
        },
        "id": "Uc4_7jI4mioD",
        "outputId": "470e4242-d866-4e35-c266-e5e22f2e010a"
      },
      "execution_count": 4,
      "outputs": [
        {
          "output_type": "execute_result",
          "data": {
            "text/plain": [
              "[1, 2, 3, 4, 5]"
            ]
          },
          "metadata": {},
          "execution_count": 4
        }
      ]
    },
    {
      "cell_type": "code",
      "source": [
        "for i in range(len(nums)):\n",
        "  nums[i]=nums[i]*10\n",
        ""
      ],
      "metadata": {
        "id": "UK0M-UThmN3U"
      },
      "execution_count": 5,
      "outputs": []
    },
    {
      "cell_type": "code",
      "source": [
        "nums"
      ],
      "metadata": {
        "colab": {
          "base_uri": "https://localhost:8080/"
        },
        "id": "7mPS6-ximkxs",
        "outputId": "eda69f64-84cc-4f3f-fe31-9d6e395af7a2"
      },
      "execution_count": 6,
      "outputs": [
        {
          "output_type": "execute_result",
          "data": {
            "text/plain": [
              "[10, 20, 30, 40, 50]"
            ]
          },
          "metadata": {},
          "execution_count": 6
        }
      ]
    },
    {
      "cell_type": "code",
      "source": [
        "len(nums)"
      ],
      "metadata": {
        "colab": {
          "base_uri": "https://localhost:8080/"
        },
        "id": "YkLJpdWRnHxz",
        "outputId": "0b5b0f34-42d7-47dc-d72c-24085a6cc87c"
      },
      "execution_count": 8,
      "outputs": [
        {
          "output_type": "execute_result",
          "data": {
            "text/plain": [
              "5"
            ]
          },
          "metadata": {},
          "execution_count": 8
        }
      ]
    },
    {
      "cell_type": "code",
      "source": [
        "books=[]"
      ],
      "metadata": {
        "id": "5hRXHk5mnjJr"
      },
      "execution_count": 57,
      "outputs": []
    },
    {
      "cell_type": "code",
      "source": [
        "books.append('파이썬')"
      ],
      "metadata": {
        "id": "XCTJOxkdnw9s"
      },
      "execution_count": 58,
      "outputs": []
    },
    {
      "cell_type": "code",
      "source": [
        "books.append('C')"
      ],
      "metadata": {
        "id": "ye6PwsFPn6ez"
      },
      "execution_count": 59,
      "outputs": []
    },
    {
      "cell_type": "code",
      "source": [
        "books.append('자바')"
      ],
      "metadata": {
        "id": "lZ5q-_N2n3Rs"
      },
      "execution_count": 60,
      "outputs": []
    },
    {
      "cell_type": "code",
      "source": [
        "books"
      ],
      "metadata": {
        "colab": {
          "base_uri": "https://localhost:8080/"
        },
        "id": "TxJF_XswoAIr",
        "outputId": "12ff1676-5043-4f81-9b59-5d6f5f1b2c96"
      },
      "execution_count": 61,
      "outputs": [
        {
          "output_type": "execute_result",
          "data": {
            "text/plain": [
              "['파이썬', 'C', '자바']"
            ]
          },
          "metadata": {},
          "execution_count": 61
        }
      ]
    },
    {
      "cell_type": "code",
      "source": [],
      "metadata": {
        "id": "cuYyAmbioF2L"
      },
      "execution_count": 15,
      "outputs": []
    },
    {
      "cell_type": "code",
      "source": [
        "books.insert(2,'GO')"
      ],
      "metadata": {
        "id": "Dhvr4MNoorlE"
      },
      "execution_count": 62,
      "outputs": []
    },
    {
      "cell_type": "code",
      "source": [
        "books"
      ],
      "metadata": {
        "colab": {
          "base_uri": "https://localhost:8080/"
        },
        "id": "eTyznDU1oz0b",
        "outputId": "bdcd051e-9167-4d5f-ee84-8e73c5925b20"
      },
      "execution_count": 63,
      "outputs": [
        {
          "output_type": "execute_result",
          "data": {
            "text/plain": [
              "['파이썬', 'C', 'GO', '자바']"
            ]
          },
          "metadata": {},
          "execution_count": 63
        }
      ]
    },
    {
      "cell_type": "code",
      "source": [
        "books.extend(['C++','Pascal'])"
      ],
      "metadata": {
        "id": "sx9zLh2-o1FE"
      },
      "execution_count": 64,
      "outputs": []
    },
    {
      "cell_type": "code",
      "source": [
        "books.remove('C')"
      ],
      "metadata": {
        "id": "6d6I8gmDphoF"
      },
      "execution_count": 65,
      "outputs": []
    },
    {
      "cell_type": "code",
      "source": [
        "books"
      ],
      "metadata": {
        "colab": {
          "base_uri": "https://localhost:8080/"
        },
        "id": "M24XebyjpLk7",
        "outputId": "24e73c7d-2768-4a30-f936-2fd71eeebebd"
      },
      "execution_count": 66,
      "outputs": [
        {
          "output_type": "execute_result",
          "data": {
            "text/plain": [
              "['파이썬', 'GO', '자바', 'C++', 'Pascal']"
            ]
          },
          "metadata": {},
          "execution_count": 66
        }
      ]
    },
    {
      "cell_type": "code",
      "source": [
        "books.pop()"
      ],
      "metadata": {
        "colab": {
          "base_uri": "https://localhost:8080/",
          "height": 35
        },
        "id": "wgNovJuXpdtj",
        "outputId": "021edffc-27e3-4c9d-d736-5842c17305a6"
      },
      "execution_count": 67,
      "outputs": [
        {
          "output_type": "execute_result",
          "data": {
            "text/plain": [
              "'Pascal'"
            ],
            "application/vnd.google.colaboratory.intrinsic+json": {
              "type": "string"
            }
          },
          "metadata": {},
          "execution_count": 67
        }
      ]
    },
    {
      "cell_type": "code",
      "source": [
        "books"
      ],
      "metadata": {
        "colab": {
          "base_uri": "https://localhost:8080/"
        },
        "id": "bbYASSZgpg7j",
        "outputId": "0d6aa5e0-0b3c-4dac-c387-bf66ec587280"
      },
      "execution_count": 68,
      "outputs": [
        {
          "output_type": "execute_result",
          "data": {
            "text/plain": [
              "['파이썬', 'GO', '자바', 'C++']"
            ]
          },
          "metadata": {},
          "execution_count": 68
        }
      ]
    },
    {
      "cell_type": "code",
      "source": [
        "del books[0]"
      ],
      "metadata": {
        "id": "XVJP3P4_qNaz"
      },
      "execution_count": 69,
      "outputs": []
    },
    {
      "cell_type": "code",
      "source": [
        "books"
      ],
      "metadata": {
        "colab": {
          "base_uri": "https://localhost:8080/"
        },
        "id": "Hhn6t_Lrp830",
        "outputId": "725248e8-272c-401e-9e90-a7d2bcbeb999"
      },
      "execution_count": 70,
      "outputs": [
        {
          "output_type": "execute_result",
          "data": {
            "text/plain": [
              "['GO', '자바', 'C++']"
            ]
          },
          "metadata": {},
          "execution_count": 70
        }
      ]
    },
    {
      "cell_type": "code",
      "metadata": {
        "id": "7a752f61"
      },
      "source": [
        "# Assuming you want to delete the first element before clearing the list\n",
        "# This code should be placed before the books.clear() cell\n",
        "\n",
        "# Re-initialize books with some values for demonstration\n",
        "books = ['파이썬', 'C', 'GO', '자바', 'C++', 'Pascal']\n",
        "\n",
        "# Now you can safely delete the first element\n",
        "del books[0]\n",
        "print(books)"
      ],
      "execution_count": null,
      "outputs": []
    },
    {
      "cell_type": "code",
      "source": [
        "books.clear()"
      ],
      "metadata": {
        "id": "VyvKqfBwp-u0"
      },
      "execution_count": 35,
      "outputs": []
    },
    {
      "cell_type": "code",
      "source": [
        "books"
      ],
      "metadata": {
        "colab": {
          "base_uri": "https://localhost:8080/"
        },
        "id": "nnuWFV2dqKBU",
        "outputId": "5a4dc834-6e04-4d86-ed4d-31dda4042696"
      },
      "execution_count": 36,
      "outputs": [
        {
          "output_type": "execute_result",
          "data": {
            "text/plain": [
              "[]"
            ]
          },
          "metadata": {},
          "execution_count": 36
        }
      ]
    },
    {
      "cell_type": "code",
      "source": [
        "nums.reverse()"
      ],
      "metadata": {
        "id": "1x5BeYmLqLAU"
      },
      "execution_count": 38,
      "outputs": []
    },
    {
      "cell_type": "code",
      "source": [
        "nums"
      ],
      "metadata": {
        "colab": {
          "base_uri": "https://localhost:8080/"
        },
        "id": "QUyM8Cgwqejj",
        "outputId": "8474aa6d-c101-40ad-884d-c746fd53e7aa"
      },
      "execution_count": 39,
      "outputs": [
        {
          "output_type": "execute_result",
          "data": {
            "text/plain": [
              "[50, 40, 30, 20, 10]"
            ]
          },
          "metadata": {},
          "execution_count": 39
        }
      ]
    },
    {
      "cell_type": "code",
      "source": [
        "nums.sort()"
      ],
      "metadata": {
        "id": "N2Yv1X4Qqfns"
      },
      "execution_count": 40,
      "outputs": []
    },
    {
      "cell_type": "code",
      "source": [
        "nums"
      ],
      "metadata": {
        "colab": {
          "base_uri": "https://localhost:8080/"
        },
        "id": "U0nATg-sqodc",
        "outputId": "b1ac97ac-343d-44ff-b88e-aae41898c5ef"
      },
      "execution_count": 41,
      "outputs": [
        {
          "output_type": "execute_result",
          "data": {
            "text/plain": [
              "[10, 20, 30, 40, 50]"
            ]
          },
          "metadata": {},
          "execution_count": 41
        }
      ]
    },
    {
      "cell_type": "code",
      "source": [
        "nums.sort(reverse=True)"
      ],
      "metadata": {
        "id": "bDVfFL5Qqo_b"
      },
      "execution_count": 42,
      "outputs": []
    },
    {
      "cell_type": "code",
      "source": [
        "nums"
      ],
      "metadata": {
        "colab": {
          "base_uri": "https://localhost:8080/"
        },
        "id": "SeKN322EqwwM",
        "outputId": "844a89f0-41ac-4c54-f9e1-e3c7386b879a"
      },
      "execution_count": 43,
      "outputs": [
        {
          "output_type": "execute_result",
          "data": {
            "text/plain": [
              "[50, 40, 30, 20, 10]"
            ]
          },
          "metadata": {},
          "execution_count": 43
        }
      ]
    },
    {
      "cell_type": "code",
      "source": [
        "books=['파이썬', 'C', 'GO', '자바', 'C++', 'Pascal']"
      ],
      "metadata": {
        "id": "Tp1Phb4BqxZE"
      },
      "execution_count": 73,
      "outputs": []
    },
    {
      "cell_type": "code",
      "source": [
        "books"
      ],
      "metadata": {
        "colab": {
          "base_uri": "https://localhost:8080/"
        },
        "id": "L8wlPBUVrPZM",
        "outputId": "09723ca1-8a39-4eee-97a4-8b2d9ac0a3f9"
      },
      "execution_count": 74,
      "outputs": [
        {
          "output_type": "execute_result",
          "data": {
            "text/plain": [
              "['파이썬', 'C', 'GO', '자바', 'C++', 'Pascal']"
            ]
          },
          "metadata": {},
          "execution_count": 74
        }
      ]
    },
    {
      "cell_type": "code",
      "source": [
        "'자바'in books"
      ],
      "metadata": {
        "colab": {
          "base_uri": "https://localhost:8080/"
        },
        "id": "khXSCYIVrQcM",
        "outputId": "5e966180-6c1a-4ef1-957f-0df43294dfbc"
      },
      "execution_count": 75,
      "outputs": [
        {
          "output_type": "execute_result",
          "data": {
            "text/plain": [
              "True"
            ]
          },
          "metadata": {},
          "execution_count": 75
        }
      ]
    },
    {
      "cell_type": "code",
      "source": [
        "'java'in books"
      ],
      "metadata": {
        "colab": {
          "base_uri": "https://localhost:8080/"
        },
        "id": "zIXmrSJRrXGM",
        "outputId": "0bbb1eaf-1bfa-4e12-b717-52199ae4afef"
      },
      "execution_count": 76,
      "outputs": [
        {
          "output_type": "execute_result",
          "data": {
            "text/plain": [
              "False"
            ]
          },
          "metadata": {},
          "execution_count": 76
        }
      ]
    },
    {
      "cell_type": "code",
      "source": [
        "books.index('자바')"
      ],
      "metadata": {
        "colab": {
          "base_uri": "https://localhost:8080/"
        },
        "id": "OaEzIHljraSU",
        "outputId": "4b2177e5-1bec-46ab-a304-4a9e0f6723d6"
      },
      "execution_count": 77,
      "outputs": [
        {
          "output_type": "execute_result",
          "data": {
            "text/plain": [
              "3"
            ]
          },
          "metadata": {},
          "execution_count": 77
        }
      ]
    },
    {
      "cell_type": "code",
      "source": [
        "import random\n",
        "random.choice(books)"
      ],
      "metadata": {
        "colab": {
          "base_uri": "https://localhost:8080/",
          "height": 35
        },
        "id": "ffgcx5pEr0z8",
        "outputId": "019cce06-12f3-4ec4-b6a7-6119a060bbf5"
      },
      "execution_count": 78,
      "outputs": [
        {
          "output_type": "execute_result",
          "data": {
            "text/plain": [
              "'Pascal'"
            ],
            "application/vnd.google.colaboratory.intrinsic+json": {
              "type": "string"
            }
          },
          "metadata": {},
          "execution_count": 78
        }
      ]
    },
    {
      "cell_type": "code",
      "source": [
        "random.sample(books,2)\n",
        "books"
      ],
      "metadata": {
        "colab": {
          "base_uri": "https://localhost:8080/"
        },
        "id": "N-rrUiOhsF78",
        "outputId": "1c05af0f-a0cb-4ea0-a9b4-d4886019cc94"
      },
      "execution_count": 79,
      "outputs": [
        {
          "output_type": "execute_result",
          "data": {
            "text/plain": [
              "['파이썬', 'C', 'GO', '자바', 'C++', 'Pascal']"
            ]
          },
          "metadata": {},
          "execution_count": 79
        }
      ]
    },
    {
      "cell_type": "code",
      "source": [
        "max(prices)"
      ],
      "metadata": {
        "colab": {
          "base_uri": "https://localhost:8080/"
        },
        "id": "OJkIAxs9sgKs",
        "outputId": "ac760238-a887-434a-9a33-c2737fe0923e"
      },
      "execution_count": 80,
      "outputs": [
        {
          "output_type": "execute_result",
          "data": {
            "text/plain": [
              "5000"
            ]
          },
          "metadata": {},
          "execution_count": 80
        }
      ]
    },
    {
      "cell_type": "code",
      "source": [
        "sum(prices)"
      ],
      "metadata": {
        "colab": {
          "base_uri": "https://localhost:8080/"
        },
        "id": "-_xs0klgsmRc",
        "outputId": "ffb22b17-a02d-40dc-cc95-ecadc5271b2a"
      },
      "execution_count": 81,
      "outputs": [
        {
          "output_type": "execute_result",
          "data": {
            "text/plain": [
              "13000"
            ]
          },
          "metadata": {},
          "execution_count": 81
        }
      ]
    },
    {
      "cell_type": "code",
      "source": [
        "total=0\n",
        "for i in range(len(prices)):\n",
        "  total+=prices[i]\n",
        "print(total)\n"
      ],
      "metadata": {
        "colab": {
          "base_uri": "https://localhost:8080/"
        },
        "id": "Fwfio7VvsoOz",
        "outputId": "29222963-0b87-49d4-c0e6-f273049aa337"
      },
      "execution_count": 82,
      "outputs": [
        {
          "output_type": "stream",
          "name": "stdout",
          "text": [
            "13000\n"
          ]
        }
      ]
    },
    {
      "cell_type": "code",
      "metadata": {
        "colab": {
          "base_uri": "https://localhost:8080/"
        },
        "id": "8d32e430",
        "outputId": "dbd3f470-5151-4e98-c6f7-d80275d5f1e6"
      },
      "source": [
        "dynasties = [\n",
        "    '태조', '정종', '태종', '세종', '문종', '단종', '세조', '예종', '성종', '연산군',\n",
        "    '중종', '인종', '명종', '선조', '광해군', '인조', '효종', '현종', '숙종', '경종',\n",
        "    '영조', '정조', '순조', '헌종', '철종', '고종', '순종'\n",
        "]\n",
        "\n",
        "print(dynasties)"
      ],
      "execution_count": 89,
      "outputs": [
        {
          "output_type": "stream",
          "name": "stdout",
          "text": [
            "['태조', '정종', '태종', '세종', '문종', '단종', '세조', '예종', '성종', '연산군', '중종', '인종', '명종', '선조', '광해군', '인조', '효종', '현종', '숙종', '경종', '영조', '정조', '순조', '헌종', '철종', '고종', '순종']\n"
          ]
        }
      ]
    },
    {
      "cell_type": "code",
      "source": [
        "\n",
        "dynasties"
      ],
      "metadata": {
        "colab": {
          "base_uri": "https://localhost:8080/"
        },
        "collapsed": true,
        "id": "nitJfzDzuP-L",
        "outputId": "56342682-afe1-425f-f174-c890e8303676"
      },
      "execution_count": 90,
      "outputs": [
        {
          "output_type": "execute_result",
          "data": {
            "text/plain": [
              "['태조',\n",
              " '정종',\n",
              " '태종',\n",
              " '세종',\n",
              " '문종',\n",
              " '단종',\n",
              " '세조',\n",
              " '예종',\n",
              " '성종',\n",
              " '연산군',\n",
              " '중종',\n",
              " '인종',\n",
              " '명종',\n",
              " '선조',\n",
              " '광해군',\n",
              " '인조',\n",
              " '효종',\n",
              " '현종',\n",
              " '숙종',\n",
              " '경종',\n",
              " '영조',\n",
              " '정조',\n",
              " '순조',\n",
              " '헌종',\n",
              " '철종',\n",
              " '고종',\n",
              " '순종']"
            ]
          },
          "metadata": {},
          "execution_count": 90
        }
      ]
    },
    {
      "cell_type": "code",
      "source": [],
      "metadata": {
        "id": "To9pS5rGugID"
      },
      "execution_count": null,
      "outputs": []
    },
    {
      "cell_type": "code",
      "metadata": {
        "colab": {
          "base_uri": "https://localhost:8080/"
        },
        "id": "790e6b98",
        "outputId": "541ed094-d06a-4d45-c60d-9a0b0df1b776"
      },
      "source": [
        "num = int(input(\"1부터 27까지의 숫자를 입력하세요: \"))\n",
        "if 1 <= num <= 27:\n",
        "  index = num - 1\n",
        "  print(f\"{num}번째 왕은 {dynasties[index]}입니다.\")\n",
        "else:\n",
        "    print(\"유효한 범위를 벗어난 숫자를 입력했습니다. 1부터 27까지의 숫자를 입력해주세요.\")"
      ],
      "execution_count": 85,
      "outputs": [
        {
          "output_type": "stream",
          "name": "stdout",
          "text": [
            "1부터 27까지의 숫자를 입력하세요: 25\n",
            "25번째 왕은 철종입니다.\n"
          ]
        }
      ]
    },
    {
      "cell_type": "code",
      "source": [
        "for i in range(len(dynasties)):\n",
        "  print(f\"{i+1}대 {dynasties[i]}\")"
      ],
      "metadata": {
        "colab": {
          "base_uri": "https://localhost:8080/"
        },
        "id": "4h5x2bejvWM0",
        "outputId": "9f1f5c0c-1962-494d-effc-bcac2c758683"
      },
      "execution_count": 94,
      "outputs": [
        {
          "output_type": "stream",
          "name": "stdout",
          "text": [
            "1대 태조\n",
            "2대 정종\n",
            "3대 태종\n",
            "4대 세종\n",
            "5대 문종\n",
            "6대 단종\n",
            "7대 세조\n",
            "8대 예종\n",
            "9대 성종\n",
            "10대 연산군\n",
            "11대 중종\n",
            "12대 인종\n",
            "13대 명종\n",
            "14대 선조\n",
            "15대 광해군\n",
            "16대 인조\n",
            "17대 효종\n",
            "18대 현종\n",
            "19대 숙종\n",
            "20대 경종\n",
            "21대 영조\n",
            "22대 정조\n",
            "23대 순조\n",
            "24대 헌종\n",
            "25대 철종\n",
            "26대 고종\n",
            "27대 순종\n"
          ]
        }
      ]
    },
    {
      "cell_type": "code",
      "source": [
        "char1='한글사용법'"
      ],
      "metadata": {
        "id": "-CDoy7oE0cd7"
      },
      "execution_count": 95,
      "outputs": []
    },
    {
      "cell_type": "code",
      "source": [
        "char1=\"'한글'사용법\""
      ],
      "metadata": {
        "id": "xAYY3NOHwA2U"
      },
      "execution_count": 96,
      "outputs": []
    },
    {
      "cell_type": "code",
      "source": [
        "char1"
      ],
      "metadata": {
        "colab": {
          "base_uri": "https://localhost:8080/",
          "height": 35
        },
        "id": "DKdhjbEd0xw0",
        "outputId": "dc4d0b18-f4b5-46c9-bd8b-3a349f273393"
      },
      "execution_count": 97,
      "outputs": [
        {
          "output_type": "execute_result",
          "data": {
            "text/plain": [
              "\"'한글'사용법\""
            ],
            "application/vnd.google.colaboratory.intrinsic+json": {
              "type": "string"
            }
          },
          "metadata": {},
          "execution_count": 97
        }
      ]
    },
    {
      "cell_type": "code",
      "source": [
        "char1='한글\\n사용법'\n",
        "print(char1)"
      ],
      "metadata": {
        "colab": {
          "base_uri": "https://localhost:8080/"
        },
        "id": "4MjM2Mqs00Yz",
        "outputId": "360641c4-53e6-4ac8-edb5-aa54fe2d10a7"
      },
      "execution_count": 98,
      "outputs": [
        {
          "output_type": "stream",
          "name": "stdout",
          "text": [
            "한글\n",
            "사용법\n"
          ]
        }
      ]
    },
    {
      "cell_type": "code",
      "source": [
        "char1='\\'한글\\' 사용법'"
      ],
      "metadata": {
        "id": "WVD6409D1ryK"
      },
      "execution_count": 102,
      "outputs": []
    },
    {
      "cell_type": "code",
      "source": [
        "char1"
      ],
      "metadata": {
        "colab": {
          "base_uri": "https://localhost:8080/",
          "height": 35
        },
        "id": "khmB7RSX12PR",
        "outputId": "42260b84-c4c8-471e-e0e1-33ed16482da4"
      },
      "execution_count": 103,
      "outputs": [
        {
          "output_type": "execute_result",
          "data": {
            "text/plain": [
              "\"'한글' 사용법\""
            ],
            "application/vnd.google.colaboratory.intrinsic+json": {
              "type": "string"
            }
          },
          "metadata": {},
          "execution_count": 103
        }
      ]
    },
    {
      "cell_type": "code",
      "source": [
        "char2='메뉴얼'"
      ],
      "metadata": {
        "id": "pnA3jBiC13Dz"
      },
      "execution_count": 104,
      "outputs": []
    },
    {
      "cell_type": "code",
      "source": [
        "print(char1+char2)"
      ],
      "metadata": {
        "colab": {
          "base_uri": "https://localhost:8080/"
        },
        "id": "I26yT6iP2CuT",
        "outputId": "ff5c0f9e-3647-432d-e844-b551e3b600f3"
      },
      "execution_count": 105,
      "outputs": [
        {
          "output_type": "stream",
          "name": "stdout",
          "text": [
            "'한글' 사용법메뉴얼\n"
          ]
        }
      ]
    },
    {
      "cell_type": "code",
      "source": [
        "s='hello'*5"
      ],
      "metadata": {
        "id": "wBS_udZN2Gnz"
      },
      "execution_count": 107,
      "outputs": []
    },
    {
      "cell_type": "code",
      "source": [
        "s"
      ],
      "metadata": {
        "colab": {
          "base_uri": "https://localhost:8080/",
          "height": 35
        },
        "id": "xMjHoLwM2KAq",
        "outputId": "47ab023c-620f-41cc-fcfa-3be09727584d"
      },
      "execution_count": 108,
      "outputs": [
        {
          "output_type": "execute_result",
          "data": {
            "text/plain": [
              "'hellohellohellohellohello'"
            ],
            "application/vnd.google.colaboratory.intrinsic+json": {
              "type": "string"
            }
          },
          "metadata": {},
          "execution_count": 108
        }
      ]
    },
    {
      "cell_type": "code",
      "source": [
        "'Python'.lower()\n"
      ],
      "metadata": {
        "colab": {
          "base_uri": "https://localhost:8080/",
          "height": 35
        },
        "id": "4N0Vg0Yn2Oq6",
        "outputId": "9c89e3e8-38b5-440c-ddcc-b9eb07b12f1e"
      },
      "execution_count": 109,
      "outputs": [
        {
          "output_type": "execute_result",
          "data": {
            "text/plain": [
              "'python'"
            ],
            "application/vnd.google.colaboratory.intrinsic+json": {
              "type": "string"
            }
          },
          "metadata": {},
          "execution_count": 109
        }
      ]
    },
    {
      "cell_type": "code",
      "source": [
        "ord('a')"
      ],
      "metadata": {
        "colab": {
          "base_uri": "https://localhost:8080/"
        },
        "id": "4zpPibaB295b",
        "outputId": "1b1d31e4-e5b1-4341-9f8d-907fefdf0eba"
      },
      "execution_count": 110,
      "outputs": [
        {
          "output_type": "execute_result",
          "data": {
            "text/plain": [
              "97"
            ]
          },
          "metadata": {},
          "execution_count": 110
        }
      ]
    },
    {
      "cell_type": "code",
      "source": [
        "ans=input(\"데이터를 입력\")\n",
        "if ans.isdigit():\n",
        "  print(\"숫자\")\n",
        "else:\n",
        "  print(\"문자\")"
      ],
      "metadata": {
        "colab": {
          "base_uri": "https://localhost:8080/"
        },
        "id": "Tkncaxcc4dlK",
        "outputId": "c3dbcb72-b084-46a0-b422-ba65de736673"
      },
      "execution_count": 112,
      "outputs": [
        {
          "output_type": "stream",
          "name": "stdout",
          "text": [
            "데이터를 입력ㄹㅇㄴㄹ\n",
            "문자\n"
          ]
        }
      ]
    },
    {
      "cell_type": "code",
      "source": [
        "dynasties = [\n",
        "    '태조', '정종', '태종', '세종', '문종', '단종', '세조', '예종', '성종', '연산군',\n",
        "    '중종', '인종', '명종', '선조', '광해군', '인조', '효종', '현종', '숙종', '경종',\n",
        "    '영조', '정조', '순조', '헌종', '철종', '고종', '순종'\n",
        "]"
      ],
      "metadata": {
        "id": "il0TU2po5yyC"
      },
      "execution_count": 128,
      "outputs": []
    },
    {
      "cell_type": "code",
      "source": [
        "for i in range(len(dynasties)):\n",
        "  print(f\"{i+1}대 {dynasties[i]}\")"
      ],
      "metadata": {
        "colab": {
          "base_uri": "https://localhost:8080/"
        },
        "id": "3irafpfj6Aqx",
        "outputId": "b203eef6-a789-4da7-ff3b-2a773ef8725b"
      },
      "execution_count": 129,
      "outputs": [
        {
          "output_type": "stream",
          "name": "stdout",
          "text": [
            "1대 태조\n",
            "2대 정종\n",
            "3대 태종\n",
            "4대 세종\n",
            "5대 문종\n",
            "6대 단종\n",
            "7대 세조\n",
            "8대 예종\n",
            "9대 성종\n",
            "10대 연산군\n",
            "11대 중종\n",
            "12대 인종\n",
            "13대 명종\n",
            "14대 선조\n",
            "15대 광해군\n",
            "16대 인조\n",
            "17대 효종\n",
            "18대 현종\n",
            "19대 숙종\n",
            "20대 경종\n",
            "21대 영조\n",
            "22대 정조\n",
            "23대 순조\n",
            "24대 헌종\n",
            "25대 철종\n",
            "26대 고종\n",
            "27대 순종\n"
          ]
        }
      ]
    },
    {
      "cell_type": "code",
      "source": [
        "#탐색 in 특정 값이 리스트에 존재하는지 확인합니다. (True/False 반환)\n",
        "#'한국' in nations → True\n",
        "#index() 특정 값의 첫 번째 인덱스를 반환합니다. 값이 없으면 오류가 발생합니다.\n",
        "#nations.index('한국') → 1"
      ],
      "metadata": {
        "id": "cth5ulmU8Kox"
      },
      "execution_count": 120,
      "outputs": []
    },
    {
      "cell_type": "code",
      "source": [
        "ans=input(\"순번 또는 왕의 이름을 입력\")\n",
        "if ans.isdigit():\n",
        "  i=int(ans)\n",
        "  print(dynasties[i-1])\n",
        "else:\n",
        "  print(dynasties.index(ans)+1)"
      ],
      "metadata": {
        "colab": {
          "base_uri": "https://localhost:8080/"
        },
        "id": "rbA8WrwD6C3S",
        "outputId": "9ec0ea3b-d82b-4eb6-cc8b-68a0d43aa054"
      },
      "execution_count": 118,
      "outputs": [
        {
          "output_type": "stream",
          "name": "stdout",
          "text": [
            "순번 또는 왕의 이름을 입력태종\n",
            "3\n"
          ]
        }
      ]
    },
    {
      "cell_type": "code",
      "source": [
        "ans=input(\"순번 또는 왕의 이름을 입력\")\n",
        "if ans.isdigit():\n",
        "  i=int(ans)\n",
        "  print(dynasties[i-1])\n",
        "else:\n",
        "  print(dynasties.index(ans)+1)"
      ],
      "metadata": {
        "id": "2dNeKceb8xKR"
      },
      "execution_count": null,
      "outputs": []
    },
    {
      "cell_type": "code",
      "source": [
        "ans = input(\"순번 또는 왕의 이름을 입력: \")\n",
        "\n",
        "if ans.isdigit():\n",
        "    num = int(ans)\n",
        "    if 1 <= num <= 27:\n",
        "        print(f\"{num}번째 왕은 {dynasties[num - 1]}입니다.\")\n",
        "    else:\n",
        "        print(\"유효한 순번 범위를 벗어났습니다.\")\n",
        "else:\n",
        "    try:\n",
        "        index = dynasties.index(ans)\n",
        "        print(f\"{ans}는 {index + 1}번째 왕입니다.\")\n",
        "    except ValueError:\n",
        "        print(f\"'{ans}'은(는) 조선 왕 목록에 없습니다.\")"
      ],
      "metadata": {
        "colab": {
          "base_uri": "https://localhost:8080/"
        },
        "id": "mj-O91dJ-Ahx",
        "outputId": "19723abc-c480-4787-f56c-df4311629385"
      },
      "execution_count": 135,
      "outputs": [
        {
          "output_type": "stream",
          "name": "stdout",
          "text": [
            "순번 또는 왕의 이름을 입력: 50\n",
            "유효한 순번 범위를 벗어났습니다.\n"
          ]
        }
      ]
    },
    {
      "cell_type": "code",
      "source": [
        "t=(1,2,3,4,5)    #튜플"
      ],
      "metadata": {
        "id": "RTuIrneT9IaK"
      },
      "execution_count": 121,
      "outputs": []
    },
    {
      "cell_type": "code",
      "source": [
        "t[1]=10"
      ],
      "metadata": {
        "colab": {
          "base_uri": "https://localhost:8080/",
          "height": 147
        },
        "id": "ZnWzU96Z9ISZ",
        "outputId": "a703f3d5-a940-458a-ab7b-0b0664fad08c"
      },
      "execution_count": 122,
      "outputs": [
        {
          "output_type": "error",
          "ename": "TypeError",
          "evalue": "'tuple' object does not support item assignment",
          "traceback": [
            "\u001b[0;31m---------------------------------------------------------------------------\u001b[0m",
            "\u001b[0;31mTypeError\u001b[0m                                 Traceback (most recent call last)",
            "\u001b[0;32m/tmp/ipython-input-742841118.py\u001b[0m in \u001b[0;36m<cell line: 0>\u001b[0;34m()\u001b[0m\n\u001b[0;32m----> 1\u001b[0;31m \u001b[0mt\u001b[0m\u001b[0;34m[\u001b[0m\u001b[0;36m1\u001b[0m\u001b[0;34m]\u001b[0m\u001b[0;34m=\u001b[0m\u001b[0;36m10\u001b[0m\u001b[0;34m\u001b[0m\u001b[0;34m\u001b[0m\u001b[0m\n\u001b[0m",
            "\u001b[0;31mTypeError\u001b[0m: 'tuple' object does not support item assignment"
          ]
        }
      ]
    },
    {
      "cell_type": "code",
      "source": [
        "t=[1,2,3,4,5]   #리스트 수정 가능\n",
        "t[1]=10\n",
        "t"
      ],
      "metadata": {
        "colab": {
          "base_uri": "https://localhost:8080/"
        },
        "id": "Axh3z-1N9W-B",
        "outputId": "639a28a9-2bfa-4e6d-8547-e1235bdbb11b"
      },
      "execution_count": 125,
      "outputs": [
        {
          "output_type": "execute_result",
          "data": {
            "text/plain": [
              "[1, 10, 3, 4, 5]"
            ]
          },
          "metadata": {},
          "execution_count": 125
        }
      ]
    },
    {
      "cell_type": "code",
      "source": [
        "coffe={'아메리카노':2000,'라데':3000,'녹차':2500}\n",
        "coffe"
      ],
      "metadata": {
        "colab": {
          "base_uri": "https://localhost:8080/"
        },
        "id": "lSX9Pn8Z9ePa",
        "outputId": "f94f832a-fdf9-4f90-acb8-3e8e0eabf95f"
      },
      "execution_count": 136,
      "outputs": [
        {
          "output_type": "execute_result",
          "data": {
            "text/plain": [
              "{'아메리카노': 2000, '라데': 3000, '녹차': 2500}"
            ]
          },
          "metadata": {},
          "execution_count": 136
        }
      ]
    },
    {
      "cell_type": "code",
      "source": [
        "coffe['아메리카노']"
      ],
      "metadata": {
        "colab": {
          "base_uri": "https://localhost:8080/"
        },
        "id": "nnFmvYeR--2a",
        "outputId": "17b15249-3fbf-46de-e633-dff9a295f512"
      },
      "execution_count": 137,
      "outputs": [
        {
          "output_type": "execute_result",
          "data": {
            "text/plain": [
              "2000"
            ]
          },
          "metadata": {},
          "execution_count": 137
        }
      ]
    },
    {
      "cell_type": "code",
      "source": [
        "for k in coffe:\n",
        "  print(k)"
      ],
      "metadata": {
        "colab": {
          "base_uri": "https://localhost:8080/"
        },
        "id": "_otXUvcZ_Fls",
        "outputId": "95cbadaa-84e7-459f-9068-96755618e98b"
      },
      "execution_count": 138,
      "outputs": [
        {
          "output_type": "stream",
          "name": "stdout",
          "text": [
            "아메리카노\n",
            "라데\n",
            "녹차\n"
          ]
        }
      ]
    },
    {
      "cell_type": "code",
      "source": [
        "for k in coffe:\n",
        "  print(coffe[k])"
      ],
      "metadata": {
        "colab": {
          "base_uri": "https://localhost:8080/"
        },
        "id": "lZT3jfoh_fZp",
        "outputId": "ed4bbabf-c1eb-4cfb-85bf-69a615cdfd15"
      },
      "execution_count": 139,
      "outputs": [
        {
          "output_type": "stream",
          "name": "stdout",
          "text": [
            "2000\n",
            "3000\n",
            "2500\n"
          ]
        }
      ]
    },
    {
      "cell_type": "code",
      "source": [
        "for k,v in coffe.items():\n",
        "  print(coffe[k])"
      ],
      "metadata": {
        "colab": {
          "base_uri": "https://localhost:8080/"
        },
        "id": "ldkzh-j-_5Lx",
        "outputId": "b79e3cd7-89b7-4288-a9f8-0ca0a3bb5401"
      },
      "execution_count": 141,
      "outputs": [
        {
          "output_type": "stream",
          "name": "stdout",
          "text": [
            "2000\n",
            "3000\n",
            "2500\n"
          ]
        }
      ]
    },
    {
      "cell_type": "code",
      "source": [
        "for k,v in coffe.items():\n",
        "  print(k,v)"
      ],
      "metadata": {
        "colab": {
          "base_uri": "https://localhost:8080/"
        },
        "id": "-KJatxzjAKL5",
        "outputId": "6dfccbd7-354d-4296-c6f4-5866af78aa28"
      },
      "execution_count": 142,
      "outputs": [
        {
          "output_type": "stream",
          "name": "stdout",
          "text": [
            "아메리카노 2000\n",
            "라데 3000\n",
            "녹차 2500\n"
          ]
        }
      ]
    },
    {
      "cell_type": "code",
      "source": [
        "score={'홍길동':100,'이순진':90,'강감찬':80}\n",
        "print(max(score.values()))"
      ],
      "metadata": {
        "colab": {
          "base_uri": "https://localhost:8080/"
        },
        "id": "WxY338K2AOVC",
        "outputId": "ed9409ca-fd5d-459b-e5e0-7512086b77ca"
      },
      "execution_count": 149,
      "outputs": [
        {
          "output_type": "stream",
          "name": "stdout",
          "text": [
            "100\n"
          ]
        }
      ]
    },
    {
      "cell_type": "code",
      "source": [
        "print(min(score.values()))"
      ],
      "metadata": {
        "colab": {
          "base_uri": "https://localhost:8080/"
        },
        "id": "hvCmuE-5BvYJ",
        "outputId": "be5f7d37-c9a3-43cf-cbaa-cf8b3022aca9"
      },
      "execution_count": 150,
      "outputs": [
        {
          "output_type": "stream",
          "name": "stdout",
          "text": [
            "80\n"
          ]
        }
      ]
    },
    {
      "cell_type": "code",
      "source": [
        "print(sum(score.values()))"
      ],
      "metadata": {
        "colab": {
          "base_uri": "https://localhost:8080/"
        },
        "id": "EokZAceNB0Nw",
        "outputId": "5efe1486-42d1-4bfa-c19e-9e039c6cddce"
      },
      "execution_count": 151,
      "outputs": [
        {
          "output_type": "stream",
          "name": "stdout",
          "text": [
            "270\n"
          ]
        }
      ]
    },
    {
      "cell_type": "code",
      "source": [
        "print((sum(score.values())/(len(score.values()))))"
      ],
      "metadata": {
        "colab": {
          "base_uri": "https://localhost:8080/"
        },
        "id": "lXJCA_JICSex",
        "outputId": "bd6e568e-64ea-4ac6-a048-9e3443a3099f"
      },
      "execution_count": 154,
      "outputs": [
        {
          "output_type": "stream",
          "name": "stdout",
          "text": [
            "90.0\n"
          ]
        }
      ]
    }
  ]
}