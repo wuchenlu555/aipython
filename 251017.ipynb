{
  "nbformat": 4,
  "nbformat_minor": 0,
  "metadata": {
    "colab": {
      "provenance": [],
      "authorship_tag": "ABX9TyNd9qSgEAugyGT2JBcafIOr",
      "include_colab_link": true
    },
    "kernelspec": {
      "name": "python3",
      "display_name": "Python 3"
    },
    "language_info": {
      "name": "python"
    }
  },
  "cells": [
    {
      "cell_type": "markdown",
      "metadata": {
        "id": "view-in-github",
        "colab_type": "text"
      },
      "source": [
        "<a href=\"https://colab.research.google.com/github/wuchenlu555/aipython/blob/main/251017.ipynb\" target=\"_parent\"><img src=\"https://colab.research.google.com/assets/colab-badge.svg\" alt=\"Open In Colab\"/></a>"
      ]
    },
    {
      "cell_type": "code",
      "execution_count": 6,
      "metadata": {
        "colab": {
          "base_uri": "https://localhost:8080/"
        },
        "id": "gZ_OqapZmPv6",
        "outputId": "813e9a6c-be96-4e5c-de48-30fa3fb44c59"
      },
      "outputs": [
        {
          "output_type": "stream",
          "name": "stdout",
          "text": [
            "키 값을 입력해주세요164\n",
            "몸무게 값을 입력해주세요46.78\n",
            "17.39\n"
          ]
        }
      ],
      "source": [
        "def bmi(height_cm, weight):\n",
        "    height_m = height_cm / 100\n",
        "    bmi = weight / (height_m ** 2)\n",
        "    return round(bmi, 2)\n",
        "height=float(input(\"키 값을 입력해주세요\"))\n",
        "weight=float(input(\"몸무게 값을 입력해주세요\"))\n",
        "result=bmi(height,weight)\n",
        "print(result)"
      ]
    },
    {
      "cell_type": "code",
      "source": [
        "def bmi_fun(h_cm,w):\n",
        "  h_m=h_cm/100\n",
        "  bmi=w/(h_m**2)\n",
        "  return round(bmi,2)\n",
        "h=float(input(\"키 값을 입력해주세요\"))\n",
        "w=float(input(\"몸무게 값을 입력해주세요\"))\n",
        "response=bmi_fun(h,w)\n",
        "print(response)\n",
        ""
      ],
      "metadata": {
        "colab": {
          "base_uri": "https://localhost:8080/"
        },
        "id": "mLrXz3_NvK2u",
        "outputId": "6fc91e64-8f0f-4b12-fcb1-48cf667d09bb"
      },
      "execution_count": 14,
      "outputs": [
        {
          "output_type": "stream",
          "name": "stdout",
          "text": [
            "키 값을 입력해주세요135\n",
            "몸무게 값을 입력해주세요43.01\n",
            "23.6\n"
          ]
        }
      ]
    },
    {
      "cell_type": "code",
      "source": [
        "# 실습 1-1: 이메일 주소 분리하기\n",
        "email=\"user@example.com\"\n",
        "username,domain=email.split(\"@\")\n",
        "print(f\"사용자명:{username},도메인:{domain}\")"
      ],
      "metadata": {
        "colab": {
          "base_uri": "https://localhost:8080/"
        },
        "id": "Zbq_o40K61Lk",
        "outputId": "a3d50b06-8967-44ba-efa3-4e0cdfd469d7"
      },
      "execution_count": 15,
      "outputs": [
        {
          "output_type": "stream",
          "name": "stdout",
          "text": [
            "사용자명:user,도메인:example.com\n"
          ]
        }
      ]
    },
    {
      "cell_type": "code",
      "source": [
        "# 실습 1-2: CSV 형식 데이터 처리\n",
        "csv_data = \"김철수,30,서울,개발자\"\n",
        "data_list = []\n",
        "data_list=csv_data.split(\",\")\n",
        "print(f\"분리된 데이터: {data_list}\")"
      ],
      "metadata": {
        "colab": {
          "base_uri": "https://localhost:8080/"
        },
        "id": "SVvODRMv7YrN",
        "outputId": "147932ca-ad66-4568-b448-5eeb0c2ddad3"
      },
      "execution_count": 18,
      "outputs": [
        {
          "output_type": "stream",
          "name": "stdout",
          "text": [
            "분리된 데이터: ['김철수', '30', '서울', '개발자']\n"
          ]
        }
      ]
    },
    {
      "cell_type": "code",
      "source": [
        "# 실습 1-3: 경로 조합하기\n",
        "folders = [\"home\", \"user\", \"documents\", \"project\"]\n",
        "path = \"/\".join(folders)\n",
        "print(f\"경로: {path}\")\n"
      ],
      "metadata": {
        "colab": {
          "base_uri": "https://localhost:8080/"
        },
        "id": "VEwM1OEs74Yt",
        "outputId": "c819a65f-f891-4e3a-db44-9a838104201e"
      },
      "execution_count": 19,
      "outputs": [
        {
          "output_type": "stream",
          "name": "stdout",
          "text": [
            "경로: home/user/documents/project\n"
          ]
        }
      ]
    },
    {
      "cell_type": "code",
      "source": [
        "# 실습 1-4: 단어를 문장으로 만들기\n",
        "words = [\"Python\", \"is\", \"awesome\"]\n",
        "sentence = \" \".join(words)\n",
        "print(f\"문장: {sentence}\")"
      ],
      "metadata": {
        "colab": {
          "base_uri": "https://localhost:8080/"
        },
        "id": "Ln1CdC2G8SFj",
        "outputId": "c6530ba0-d698-4640-f55f-f7953d8f9061"
      },
      "execution_count": 20,
      "outputs": [
        {
          "output_type": "stream",
          "name": "stdout",
          "text": [
            "문장: Python is awesome\n"
          ]
        }
      ]
    },
    {
      "cell_type": "code",
      "source": [
        "number_list = [ x**2 for x in range(10) if x % 2 == 0]\n",
        "print(number_list)"
      ],
      "metadata": {
        "colab": {
          "base_uri": "https://localhost:8080/"
        },
        "id": "_5uJlszS9CdC",
        "outputId": "216b8c7d-1af7-420b-98bf-8f5edf673cad"
      },
      "execution_count": 21,
      "outputs": [
        {
          "output_type": "stream",
          "name": "stdout",
          "text": [
            "[0, 4, 16, 36, 64]\n"
          ]
        }
      ]
    },
    {
      "cell_type": "code",
      "source": [
        "# 실습 2-1: 1~20까지 숫자 중 3의 배수만\n",
        "multiples_of_3=[x**3 for x in range(1,21) if x%3==0]\n",
        "print(f\"3의 배수: {multiples_of_3}\")"
      ],
      "metadata": {
        "colab": {
          "base_uri": "https://localhost:8080/"
        },
        "id": "p-izHIz39DLj",
        "outputId": "4f689f2c-cebb-40ac-d3bf-0987ed480bc3"
      },
      "execution_count": 24,
      "outputs": [
        {
          "output_type": "stream",
          "name": "stdout",
          "text": [
            "3의 배수: [27, 216, 729, 1728, 3375, 5832]\n"
          ]
        }
      ]
    },
    {
      "cell_type": "code",
      "source": [
        "# 실습 2-2: 문자열 리스트를 대문자로 변환\n",
        "fruits = [\"apple\", \"banana\", \"cherry\"]\n",
        "upper_fruits=[fruit.upper() for fruit in fruits]\n",
        "print(f\"대문자 과일: {upper_fruits}\")"
      ],
      "metadata": {
        "colab": {
          "base_uri": "https://localhost:8080/"
        },
        "id": "gai73w5X90va",
        "outputId": "33a21a83-e810-4ed6-b8c5-842a7fc9b2b5"
      },
      "execution_count": 25,
      "outputs": [
        {
          "output_type": "stream",
          "name": "stdout",
          "text": [
            "대문자 과일: ['APPLE', 'BANANA', 'CHERRY']\n"
          ]
        }
      ]
    },
    {
      "cell_type": "code",
      "source": [
        "# 실습 2-3: 단어 길이 리스트 만들기\n",
        "words = [\"Python\", \"is\", \"powerful\"]\n",
        "word_lengths = [len(word) for word in words]\n",
        "print(f\"단어 길이: {word_lengths}\")"
      ],
      "metadata": {
        "colab": {
          "base_uri": "https://localhost:8080/"
        },
        "id": "9fknRx1o-fcQ",
        "outputId": "529ae0eb-513d-43b8-824b-a2a17283611f"
      },
      "execution_count": 26,
      "outputs": [
        {
          "output_type": "stream",
          "name": "stdout",
          "text": [
            "단어 길이: [6, 2, 8]\n"
          ]
        }
      ]
    },
    {
      "cell_type": "code",
      "source": [
        "# 실습 2-4: 조건부 변환 (짝수는 제곱, 홀수는 그대로)\n",
        "numbers = [1, 2, 3, 4, 5, 6]\n",
        "processed = [x**2 if x % 2 == 0 else x for x in numbers]\n",
        "print(f\"처리된 숫자: {processed}\")"
      ],
      "metadata": {
        "colab": {
          "base_uri": "https://localhost:8080/"
        },
        "id": "tJk0Uv6z-l_Q",
        "outputId": "819ceb40-c7be-437b-b0b7-f0e058b14d93"
      },
      "execution_count": 27,
      "outputs": [
        {
          "output_type": "stream",
          "name": "stdout",
          "text": [
            "처리된 숫자: [1, 4, 3, 16, 5, 36]\n"
          ]
        }
      ]
    },
    {
      "cell_type": "code",
      "source": [
        "scores = [95, 87, 92, 88]\n",
        "print(\"성적 순위:\")\n",
        "for rank, score in enumerate(scores, start=1):\n",
        "  print(f\" {rank}등: {score}점\")\n"
      ],
      "metadata": {
        "colab": {
          "base_uri": "https://localhost:8080/"
        },
        "id": "MzmWnQa5_ZwA",
        "outputId": "efaaf9e0-ea6a-4924-ea32-25f5abad0e47"
      },
      "execution_count": 29,
      "outputs": [
        {
          "output_type": "stream",
          "name": "stdout",
          "text": [
            "성적 순위:\n",
            " 1등: 95점\n",
            " 2등: 87점\n",
            " 3등: 92점\n",
            " 4등: 88점\n"
          ]
        }
      ]
    },
    {
      "cell_type": "code",
      "source": [
        "# 실습 3-1: enumerate로 순위 매기기\n",
        "scores = [95, 87, 92, 88]\n",
        "sorted_scores = sorted(scores, reverse=True)\n",
        "print(\"성적 순위:\")\n",
        "for rank, score in enumerate(sorted_scores, start=1):\n",
        "  print(f\" {rank}등: {score}점\")\n"
      ],
      "metadata": {
        "colab": {
          "base_uri": "https://localhost:8080/"
        },
        "id": "FIUdfQuLAKnX",
        "outputId": "c260d1a9-a152-4dd2-ad79-08529fbd6e3d"
      },
      "execution_count": 32,
      "outputs": [
        {
          "output_type": "stream",
          "name": "stdout",
          "text": [
            "성적 순위:\n",
            " 1등: 95점\n",
            " 2등: 92점\n",
            " 3등: 88점\n",
            " 4등: 87점\n"
          ]
        }
      ]
    },
    {
      "cell_type": "code",
      "source": [
        "# 실습 3-2: zip으로 학생 정보 결합\n",
        "students = [\"철수\", \"영희\", \"민수\"]\n",
        "scores = [85, 92, 78]\n",
        "grades = [\"B\", \"A\", \"C\"]\n",
        "print(\"\\n학생 성적표:\")\n",
        "for name, score, grade in zip(students, scores, grades):\n",
        "  print(f\" {name}: {score}점 ({grade}학점)\")\n"
      ],
      "metadata": {
        "colab": {
          "base_uri": "https://localhost:8080/"
        },
        "id": "O9QuddZD_dcB",
        "outputId": "0b2b9fb8-160b-4f32-fee1-d6b3fdcbbcd6"
      },
      "execution_count": 30,
      "outputs": [
        {
          "output_type": "stream",
          "name": "stdout",
          "text": [
            "\n",
            "학생 성적표:\n",
            " 철수: 85점 (B학점)\n",
            " 영희: 92점 (A학점)\n",
            " 민수: 78점 (C학점)\n"
          ]
        }
      ]
    },
    {
      "cell_type": "code",
      "source": [
        "# 실습 3-3: 딕셔너리 생성 (zip 활용)\n",
        "keys = [\"name\", \"age\", \"city\"]\n",
        "values = [\"홍길동\", 25, \"부산\"]\n",
        "person_dict = dict(zip(keys, values))\n",
        "print(f\"\\n딕셔너리: {person_dict}\")"
      ],
      "metadata": {
        "colab": {
          "base_uri": "https://localhost:8080/"
        },
        "id": "l_j5cfj9_pgh",
        "outputId": "ea060dde-1f5f-4454-c342-9cd212220a52"
      },
      "execution_count": 31,
      "outputs": [
        {
          "output_type": "stream",
          "name": "stdout",
          "text": [
            "\n",
            "딕셔너리: {'name': '홍길동', 'age': 25, 'city': '부산'}\n"
          ]
        }
      ]
    },
    {
      "cell_type": "code",
      "source": [
        "numbers = [1, 2, 3, 4]\n",
        "# lambda x: x*2 라는 익명 함수를 numbers의 모든 항목에 적용\n",
        "doubled = list(map(lambda x: x*2, numbers))\n",
        "print(doubled)"
      ],
      "metadata": {
        "colab": {
          "base_uri": "https://localhost:8080/"
        },
        "id": "13AGF5Nm_xxp",
        "outputId": "92ceffba-3764-456b-d008-f768d37ec112"
      },
      "execution_count": 33,
      "outputs": [
        {
          "output_type": "stream",
          "name": "stdout",
          "text": [
            "[2, 4, 6, 8]\n"
          ]
        }
      ]
    },
    {
      "cell_type": "code",
      "source": [
        "# 실습 4-1: 섭씨를 화씨로 변환\n",
        "celsius = [0, 10, 20, 30, 40]\n",
        "fahrenheit = list(map(lambda c: c * 9/5 + 32, celsius))\n",
        "print(f\"섭씨: {celsius}\")\n",
        "print(f\"화씨: {fahrenheit}\")"
      ],
      "metadata": {
        "colab": {
          "base_uri": "https://localhost:8080/"
        },
        "id": "ExC1OMx7Bs_n",
        "outputId": "a2e4acaf-8e34-4423-9328-76e9d1fa22c3"
      },
      "execution_count": 34,
      "outputs": [
        {
          "output_type": "stream",
          "name": "stdout",
          "text": [
            "섭씨: [0, 10, 20, 30, 40]\n",
            "화씨: [32.0, 50.0, 68.0, 86.0, 104.0]\n"
          ]
        }
      ]
    },
    {
      "cell_type": "code",
      "source": [
        "# 실습 5-1: 양수만 필터링\n",
        "numbers = [-5, 3, -1, 8, 0, -3, 7]\n",
        "positive = list(filter(lambda x: x > 0, numbers))\n",
        "print(f\"전체 숫자: {numbers}\")\n",
        "print(f\"양수만: {positive}\")\n"
      ],
      "metadata": {
        "colab": {
          "base_uri": "https://localhost:8080/"
        },
        "id": "ZFunHcbHB1uX",
        "outputId": "e1641923-1bd3-4e3b-e174-4189dd0ba7a4"
      },
      "execution_count": 35,
      "outputs": [
        {
          "output_type": "stream",
          "name": "stdout",
          "text": [
            "전체 숫자: [-5, 3, -1, 8, 0, -3, 7]\n",
            "양수만: [3, 8, 7]\n"
          ]
        }
      ]
    },
    {
      "cell_type": "code",
      "source": [
        "#• split & join: 문자열과 리스트를 자유롭게 변환합니다.\n",
        "#• list comprehension: 단 한 줄로 명료하게 리스트를 생성합니다.\n",
        "#• enumerate & zip: 데이터에 순서를 부여하거나 여러 데이터를 짝지어 처리합니다.\n",
        "#• lambda & map: 간단한 함수를 즉석에서 만들어 모든 데이터에 일괄 적용합니다.\n",
        "#• filter: 특정 조건에 맞는 데이터만 깔끔하게 걸러냅니다"
      ],
      "metadata": {
        "id": "rhvez348Dj4W"
      },
      "execution_count": null,
      "outputs": []
    }
  ]
}